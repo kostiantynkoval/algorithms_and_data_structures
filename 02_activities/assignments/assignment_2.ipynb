{
 "cells": [
  {
   "cell_type": "markdown",
   "metadata": {},
   "source": [
    "# Practice Interview\n",
    "\n",
    "## Objective\n",
    "\n",
    "_*The partner assignment aims to provide participants with the opportunity to practice coding in an interview context. You will analyze your partner's Assignment 1. Moreover, code reviews are common practice in a software development team. This assignment should give you a taste of the code review process.*_\n",
    "\n",
    "## Group Size\n",
    "\n",
    "Each group should have 2 people. You will be assigned a partner\n",
    "\n",
    "## Part 1:\n",
    "\n",
    "You and your partner must share each other's Assignment 1 submission."
   ]
  },
  {
   "cell_type": "markdown",
   "metadata": {},
   "source": [
    "\n",
    "## Part 2:\n",
    "\n",
    "Create a Jupyter Notebook, create 6 of the following headings, and complete the following for your partner's assignment 1:\n",
    "\n",
    "-   Paraphrase the problem in your own words.\n"
   ]
  },
  {
   "cell_type": "code",
   "execution_count": null,
   "metadata": {},
   "outputs": [],
   "source": [
    "# There is a list of unsorted numbers in range from 0 to `n`. Numbers might not be unique. Return the list of numbers which are missing from the range [0, n] in the original list. If no missing numbers then return -1"
   ]
  },
  {
   "cell_type": "markdown",
   "metadata": {},
   "source": [
    "\n",
    "-   Create 1 new example that demonstrates you understand the problem. Trace/walkthrough 1 example that your partner made and explain it.\n"
   ]
  },
  {
   "cell_type": "code",
   "execution_count": null,
   "metadata": {},
   "outputs": [],
   "source": [
    "# 1.\n",
    "# Input list = [3,4,5,4]\n",
    "# Output: [0,1,2]\n",
    "\n",
    "# 2. Partner's example\n",
    "# Input list = [0, 1, 2, 3]\n",
    "# Output: -1\n",
    "# Explanation: The function should return -1 as in the given list max number is 3 and all numbers from 0 to 3 are present in the given list\n",
    "\n"
   ]
  },
  {
   "cell_type": "markdown",
   "metadata": {},
   "source": [
    "\n",
    "-   Copy the solution your partner wrote. \n"
   ]
  },
  {
   "cell_type": "code",
   "execution_count": 1,
   "metadata": {},
   "outputs": [
    {
     "data": {
      "text/plain": [
       "[17]"
      ]
     },
     "execution_count": 1,
     "metadata": {},
     "output_type": "execute_result"
    }
   ],
   "source": [
    "from typing import List\n",
    "def missing_num(nums: List) -> [int]:\n",
    "  # TODO\n",
    "    if not nums:\n",
    "        return -1\n",
    "\n",
    "    max_num = max(nums)\n",
    "    full_set = set(range(max_num + 1))\n",
    "    nums_set = set(nums)\n",
    "\n",
    "    missing_numbers = list(full_set - nums_set)\n",
    "    missing_numbers.sort()\n",
    "\n",
    "    return missing_numbers if missing_numbers else -1\n",
    "\n",
    "missing_num([0,1,2,3,4,5,6,7,8,9,10,11,12,13,14,15,16,1,18,19])"
   ]
  },
  {
   "cell_type": "markdown",
   "metadata": {},
   "source": [
    "\n",
    "-   Explain why their solution works in your own words.\n"
   ]
  },
  {
   "cell_type": "code",
   "execution_count": null,
   "metadata": {},
   "outputs": [],
   "source": [
    "# Your answer here\n",
    "# the function is working by making few steps:\n",
    "# 1. Find max number in the list\n",
    "# 2. Generate a set of numbers with all numbers from 0 to max number (included)\n",
    "# 3. Convert given list of numbers to set (getting rid of duplicates)\n",
    "# 4. Return the difference between generated and converted sets and store it to the missing_number list\n",
    "# 5. Sort list and return it (if list is empty return -1)"
   ]
  },
  {
   "cell_type": "markdown",
   "metadata": {},
   "source": [
    "\n",
    "-   Explain the problem’s time and space complexity in your own words.\n"
   ]
  },
  {
   "cell_type": "code",
   "execution_count": null,
   "metadata": {},
   "outputs": [],
   "source": [
    "# Time complexity: I would estimate time complexity as O(n*logn) as there are no any nested loops in this function, but there is max() and converting functions that gives totally O(3n) plus sorting O(n*logn). Totally it gives O(4n*logn), but after simplifying it is O(n*logn)\n",
    "# Space complexity: O(n). There are 3 variables to store converted sets or list, it gives O(3n), but after simplifying the complexity is O(n)"
   ]
  },
  {
   "cell_type": "markdown",
   "metadata": {},
   "source": [
    "\n",
    "-   Critique your partner's solution, including explanation, and if there is anything that should be adjusted.\n"
   ]
  },
  {
   "cell_type": "code",
   "execution_count": null,
   "metadata": {},
   "outputs": [],
   "source": [
    "# Can't make any suggestion here. The solution, prepared by my partner I found most Pythonish way. I personally would go with some looping and store values in the dictionary, than check which values are missed, but this approach is much more clear"
   ]
  },
  {
   "cell_type": "markdown",
   "metadata": {},
   "source": [
    "\n",
    "## Part 3:\n",
    "\n",
    "Please write a 200 word reflection documenting your process from assignment 1, and your presentation and review experience with your partner at the bottom of the Jupyter Notebook under a new heading \"Reflection.\" Again, export this Notebook as pdf.\n"
   ]
  },
  {
   "cell_type": "markdown",
   "metadata": {},
   "source": [
    "### Reflection"
   ]
  },
  {
   "cell_type": "code",
   "execution_count": null,
   "metadata": {},
   "outputs": [],
   "source": [
    "# Assignment 1 was quite challenging for me due to my lack of prior experience with Binary Trees. The most difficult aspect was developing a solution for implementing BFS (level order) traversal, as we had only reviewed code examples for DFS. While working on the problem, I made a concerted effort to document my code thoroughly, providing comments on nearly every line to explain each step of my function. This level of detailed explanation was intended to assist my partner, who may not be as experienced in programming, in understanding the code more effectively.\n",
    "\n",
    "# In a commercial project, such detailed explanations might be unnecessary, as well-documented code should be sufficiently clear for an experienced programmer to understand without extensive comments. However, in this educational context, I believed it was important to ensure clarity and facilitate collaboration.\n",
    "\n",
    "# Regarding Assignment 2, my experience with my partner's work was very positive. I understood their solution and found it to be highly efficient in terms of time and space complexity. I did not find any aspects of their solution that warranted criticism. Overall, this experience highlighted the importance of clear communication and mutual understanding in collaborative projects, as well as the value of learning from each other's approaches and solutions"
   ]
  },
  {
   "cell_type": "markdown",
   "metadata": {},
   "source": [
    "\n",
    "## Evaluation Criteria\n",
    "\n",
    "We are looking for the similar points as Assignment 1\n",
    "\n",
    "-   Problem is accurately stated\n",
    "\n",
    "-   New example is correct and easily understandable\n",
    "\n",
    "-   Correctness, time, and space complexity of the coding solution\n",
    "\n",
    "-   Clarity in explaining why the solution works, its time and space complexity\n",
    "\n",
    "-   Quality of critique of your partner's assignment, if necessary\n"
   ]
  },
  {
   "cell_type": "markdown",
   "metadata": {},
   "source": [
    "## Submission Information\n",
    "\n",
    "🚨 **Please review our [Assignment Submission Guide](https://github.com/UofT-DSI/onboarding/blob/main/onboarding_documents/submissions.md)** 🚨 for detailed instructions on how to format, branch, and submit your work. Following these guidelines is crucial for your submissions to be evaluated correctly.\n",
    "\n",
    "### Submission Parameters:\n",
    "* Submission Due Date: `HH:MM AM/PM - DD/MM/YYYY`\n",
    "* The branch name for your repo should be: `assignment-2`\n",
    "* What to submit for this assignment:\n",
    "    * This Jupyter Notebook (assignment_2.ipynb) should be populated and should be the only change in your pull request.\n",
    "* What the pull request link should look like for this assignment: `https://github.com/<your_github_username>/algorithms_and_data_structures/pull/<pr_id>`\n",
    "    * Open a private window in your browser. Copy and paste the link to your pull request into the address bar. Make sure you can see your pull request properly. This helps the technical facilitator and learning support staff review your submission easily.\n",
    "\n",
    "Checklist:\n",
    "- [ ] Created a branch with the correct naming convention.\n",
    "- [ ] Ensured that the repository is public.\n",
    "- [ ] Reviewed the PR description guidelines and adhered to them.\n",
    "- [ ] Verify that the link is accessible in a private browser window.\n",
    "\n",
    "If you encounter any difficulties or have questions, please don't hesitate to reach out to our team via our Slack at `#cohort-3-help`. Our Technical Facilitators and Learning Support staff are here to help you navigate any challenges.\n"
   ]
  }
 ],
 "metadata": {
  "kernelspec": {
   "display_name": "dsi_participant",
   "language": "python",
   "name": "python3"
  },
  "language_info": {
   "codemirror_mode": {
    "name": "ipython",
    "version": 3
   },
   "file_extension": ".py",
   "mimetype": "text/x-python",
   "name": "python",
   "nbconvert_exporter": "python",
   "pygments_lexer": "ipython3",
   "version": "3.9.19"
  }
 },
 "nbformat": 4,
 "nbformat_minor": 2
}
